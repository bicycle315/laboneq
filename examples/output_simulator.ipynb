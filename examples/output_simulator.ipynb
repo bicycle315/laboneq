{
 "cells": [
  {
   "cell_type": "markdown",
   "id": "5afe8b67",
   "metadata": {},
   "source": [
    "# Output Simulator\n",
    "\n",
    "LabOne Q can simulate the output of each channel in a sample-precise way. This feature can be used to check experiments even before they are executed on hardware. Combine it with the pulse sheet viewer to get a multi-scale overview over pulses and sequences.\n",
    "\n",
    "This notebook will use an amplitude Rabi experiment to demonstrate some use cases of the output simulator."
   ]
  },
  {
   "cell_type": "code",
   "execution_count": null,
   "id": "c2542a99-8bd1-42c9-8c5c-7538feca9e2b",
   "metadata": {
    "tags": []
   },
   "outputs": [],
   "source": [
    "# convenience import for all LabOne Q software functionality\n",
    "from laboneq.simple import *\n",
    "\n",
    "# helper import\n",
    "from helpers.example_notebook_helper import *\n",
    "from helpers.example_notebook_simple import create_device_setup\n"
   ]
  },
  {
   "cell_type": "code",
   "execution_count": null,
   "id": "e5d530ac-5cf1-4b7e-8b4f-6e72c699f910",
   "metadata": {
    "tags": []
   },
   "outputs": [],
   "source": [
    "# create device setup\n",
    "generation = 2\n",
    "device_setup = create_device_setup(generation=generation)\n",
    "use_emulation = True\n"
   ]
  },
  {
   "cell_type": "markdown",
   "id": "71629256",
   "metadata": {},
   "source": [
    "## Define the Experiment\n",
    "\n",
    "### Define Pulses and Readout Weighting Function"
   ]
  },
  {
   "cell_type": "code",
   "execution_count": null,
   "id": "39839943-4d2c-4b52-8a3f-1530ad395a72",
   "metadata": {
    "tags": []
   },
   "outputs": [],
   "source": [
    "# qubit drive pulse\n",
    "x90 = pulse_library.gaussian(uid=\"x90\", length=100e-9, amplitude=1.0)\n",
    "\n",
    "# flux\n",
    "flux = pulse_library.const(uid=\"flux\", length=150e-9, amplitude=1.0)\n",
    "\n",
    "# readout drive pulse\n",
    "readout_pulse = pulse_library.const(uid=\"readout_pulse\", length=400e-9, amplitude=1.0)\n",
    "# readout weights for integration\n",
    "readout_weighting_function = pulse_library.const(\n",
    "    uid=\"readout_weighting_function\", length=400e-9, amplitude=1.0\n",
    ")\n"
   ]
  },
  {
   "cell_type": "markdown",
   "id": "664b1892",
   "metadata": {},
   "source": [
    "### Define Amplitude Sweep and Experiment"
   ]
  },
  {
   "cell_type": "code",
   "execution_count": null,
   "id": "9e775591-3035-4219-acf6-e133bcb6a3f2",
   "metadata": {
    "tags": []
   },
   "outputs": [],
   "source": [
    "amp_sweep = LinearSweepParameter(uid=\"amp\", start=1.0, stop=0.1, count=11)\n",
    "\n",
    "# define number of averages\n",
    "average_exponent = 2  # used for 2^n averages, n=average_exponent, maximum: n = 17"
   ]
  },
  {
   "cell_type": "code",
   "execution_count": null,
   "id": "fe35d053-d148-4294-9998-d422239ff5b4",
   "metadata": {
    "tags": []
   },
   "outputs": [],
   "source": [
    "# Create Experiment - no explicit mapping to qubit lines\n",
    "exp = Experiment(\n",
    "    signals=[\n",
    "        ExperimentSignal(\"q0_drive\"),\n",
    "        ExperimentSignal(\"q0_flux\"),\n",
    "        ExperimentSignal(\"q0_measure\"),\n",
    "        ExperimentSignal(\"q0_acquire\"),\n",
    "    ],\n",
    ")\n",
    "\n",
    "shot_repetition_time = 1400e-9\n",
    "\n",
    "## experimental pulse sequence\n",
    "with exp.acquire_loop_rt(\n",
    "    uid=\"shots\",\n",
    "    count=pow(2, average_exponent),\n",
    "    acquisition_type=AcquisitionType.INTEGRATION,\n",
    "    repetition_mode=RepetitionMode.CONSTANT,\n",
    "    repetition_time=shot_repetition_time\n",
    "):\n",
    "    with exp.sweep(parameter=amp_sweep):\n",
    "        # qubit excitation pulse\n",
    "        with exp.section(\n",
    "            uid=\"qubit_excitation\", alignment=SectionAlignment.RIGHT\n",
    "        ):\n",
    "            exp.play(\n",
    "                signal=\"q0_drive\", pulse=x90, amplitude=amp_sweep, phase=2 * np.pi / 3\n",
    "            )\n",
    "            exp.play(signal=\"q0_flux\", pulse=flux)\n",
    "        # readout and data acquisition\n",
    "        with exp.section(uid=\"qubit_readout_and_relax\", play_after=\"qubit_excitation\"):\n",
    "            # play readout pulse\n",
    "            exp.play(signal=\"q0_measure\", pulse=readout_pulse)\n",
    "            # signal data acquisition\n",
    "            exp.acquire(\n",
    "                signal=\"q0_acquire\",\n",
    "                handle=\"ac_0\",\n",
    "                kernel=readout_weighting_function,\n",
    "            )\n"
   ]
  },
  {
   "cell_type": "code",
   "execution_count": null,
   "id": "35a82158-c6ed-41ea-8c1c-97024ea2c07f",
   "metadata": {
    "tags": []
   },
   "outputs": [],
   "source": [
    "qb = device_setup.logical_signal_groups[\"q0\"].logical_signals\n",
    "\n",
    "# define signal map\n",
    "map_q0 = {\n",
    "    \"q0_drive\": qb[\"drive_line\"],\n",
    "    \"q0_flux\": qb[\"flux_line\"],\n",
    "    \"q0_measure\": qb[\"measure_line\"],\n",
    "    \"q0_acquire\": qb[\"acquire_line\"],\n",
    "}\n",
    "\n",
    "# set signal map\n",
    "exp.set_signal_map(map_q0)\n"
   ]
  },
  {
   "cell_type": "code",
   "execution_count": null,
   "id": "93b9cc15-2f55-413b-a704-7cacb6fb000a",
   "metadata": {
    "tags": []
   },
   "outputs": [],
   "source": [
    "# create a session\n",
    "session = Session(device_setup)\n",
    "# connect to session\n",
    "session.connect(do_emulation=use_emulation)\n",
    "\n",
    "# Compile experiment\n",
    "compiled_experiment = session.compile(exp)"
   ]
  },
  {
   "cell_type": "markdown",
   "id": "9829ac36",
   "metadata": {},
   "source": [
    "### Check the Pulse Sheet"
   ]
  },
  {
   "cell_type": "code",
   "execution_count": null,
   "id": "82afbd91",
   "metadata": {},
   "outputs": [],
   "source": [
    "show_pulse_sheet(\"Amplitude Rabi\", compiled_experiment)"
   ]
  },
  {
   "cell_type": "markdown",
   "id": "b42b6939",
   "metadata": {},
   "source": [
    "## Output Simulation\n",
    "\n",
    "You can follow four simple steps to retrieve and plot the simulated output signals:\n",
    "\n",
    "1. Initialize the output simulator with the `CompiledExperiment` object\n",
    "2. Retrieve the physical channels that you are interested in.\n",
    "3. Query snippets from the signals played on these channels\n",
    "4. Plot everything"
   ]
  },
  {
   "cell_type": "markdown",
   "id": "f9379d28",
   "metadata": {},
   "source": [
    "### Initalize the `OutputSimulator`"
   ]
  },
  {
   "cell_type": "code",
   "execution_count": null,
   "id": "1400db74-a25d-42a7-ad92-0f4c6947ecca",
   "metadata": {
    "tags": []
   },
   "outputs": [],
   "source": [
    "# Simulate experiment\n",
    "simulation = OutputSimulator(compiled_experiment)\n"
   ]
  },
  {
   "cell_type": "markdown",
   "id": "5cb76a70",
   "metadata": {},
   "source": [
    "### Retrieve the physical channels of interest"
   ]
  },
  {
   "cell_type": "code",
   "execution_count": null,
   "id": "717a188c-a2e7-43e2-bf17-69f466474aa3",
   "metadata": {
    "tags": []
   },
   "outputs": [],
   "source": [
    "# Get physical channel references via the logical signals\n",
    "drive_iq_port = qb[\"drive_line\"].physical_channel\n",
    "flux_rf_port = qb[\"flux_line\"].physical_channel\n",
    "measure_iq_port = qb[\"measure_line\"].physical_channel\n",
    "acquire_port = qb[\"acquire_line\"].physical_channel\n"
   ]
  },
  {
   "cell_type": "markdown",
   "id": "8478190d",
   "metadata": {},
   "source": [
    "### Query snippets from the signals played on the respective channels"
   ]
  },
  {
   "cell_type": "code",
   "execution_count": null,
   "id": "27489a2a-f218-4211-94d7-9dfe0148f55f",
   "metadata": {
    "tags": []
   },
   "outputs": [],
   "source": [
    "# Get waveform snippets from the simulation\n",
    "drive_snippet = simulation.get_snippet(\n",
    "    drive_iq_port, start=0, output_length=250e-9\n",
    ")\n",
    "\n",
    "flux_snippet = simulation.get_snippet(flux_rf_port, start=0e-9, output_length=250e-9)\n",
    "\n",
    "measure_snippet = simulation.get_snippet(\n",
    "    measure_iq_port, start=200e-9, output_length=400e-9\n",
    ")\n",
    "\n",
    "acquire_snippet = simulation.get_snippet(\n",
    "    acquire_port, start=200e-9, output_length=400e-9\n",
    ")"
   ]
  },
  {
   "cell_type": "markdown",
   "id": "9869e745",
   "metadata": {},
   "source": [
    "### Plot everything\n",
    "\n",
    "For each snippet, you can retrieve the time axis, together with real and imaginary part of the wave."
   ]
  },
  {
   "cell_type": "code",
   "execution_count": null,
   "id": "26be5683-ea95-4d23-8c87-ff80512f7e1b",
   "metadata": {
    "tags": []
   },
   "outputs": [],
   "source": [
    "fig = plt.figure(figsize=(15, 5))\n",
    "plt.plot(drive_snippet.time, drive_snippet.wave.real, label=\"drive I\")\n",
    "plt.plot(drive_snippet.time, drive_snippet.wave.imag, label=\"drive Q\")\n",
    "plt.plot(flux_snippet.time, flux_snippet.wave.real, label=\"flux\")\n",
    "plt.plot(measure_snippet.time, measure_snippet.wave.real, label=\"measure I\")\n",
    "plt.plot(measure_snippet.time, measure_snippet.wave.imag, label=\"measure Q\")\n",
    "plt.plot(acquire_snippet.time, acquire_snippet.wave.real, label=\"acquire start\")\n",
    "plt.legend()\n"
   ]
  },
  {
   "cell_type": "markdown",
   "id": "4fdc8c84",
   "metadata": {},
   "source": [
    "### Advanced Plotting: Overlay Shots\n",
    "\n",
    "You can easily visualize parameter sweeps by overlaying subsequent shots. As a prerequisite, you need to know the shot repetition rate. An easy way is to fix it by setting the repetition rate of the acquire loop to constant, as it is done in the experiment definition above."
   ]
  },
  {
   "cell_type": "code",
   "execution_count": null,
   "id": "8e91337a-183c-4973-8c9b-d826e4e07639",
   "metadata": {
    "tags": []
   },
   "outputs": [],
   "source": [
    "for step in range(amp_sweep.count):\n",
    "    start = shot_repetition_time * step #+ 100e-9\n",
    "    drive_snippet = simulation.get_snippet(\n",
    "        drive_iq_port, start=start, output_length=200e-9\n",
    "    )\n",
    "    measure_snippet = simulation.get_snippet(\n",
    "        measure_iq_port, start=start, output_length=150e-9\n",
    "    )\n",
    "    plt.plot(drive_snippet.time - start, drive_snippet.wave.real, color=\"tab:blue\")\n",
    "    plt.plot(\n",
    "        measure_snippet.time - start, measure_snippet.wave.real, color=\"tab:orange\"\n",
    "    )\n"
   ]
  },
  {
   "cell_type": "code",
   "execution_count": null,
   "id": "80575d97",
   "metadata": {},
   "outputs": [],
   "source": []
  }
 ],
 "metadata": {
  "kernelspec": {
   "display_name": "Python 3.9.13 ('l1q_latest')",
   "language": "python",
   "name": "python3"
  },
  "language_info": {
   "codemirror_mode": {
    "name": "ipython",
    "version": 3
   },
   "file_extension": ".py",
   "mimetype": "text/x-python",
   "name": "python",
   "nbconvert_exporter": "python",
   "pygments_lexer": "ipython3",
   "version": "3.9.13"
  },
  "vscode": {
   "interpreter": {
    "hash": "6aa039235e2243ed97914e384d20cc91fd98f432d9433faab3e47de0ff85d816"
   }
  }
 },
 "nbformat": 4,
 "nbformat_minor": 5
}
