{
 "cells": [
  {
   "cell_type": "code",
   "execution_count": 38,
   "metadata": {},
   "outputs": [],
   "source": [
    "from laboneq.simple import *\n",
    "from helpers.example_notebook_helper import *\n",
    "from helpers.example_notebook_simple import create_device_setup\n",
    "#from zhinst.toolkit import Session\n",
    "from config import config\n",
    "name = \"q0\""
   ]
  },
  {
   "cell_type": "code",
   "execution_count": 79,
   "metadata": {},
   "outputs": [],
   "source": [
    "def make_device_setup():\n",
    "    descriptor=f\"\"\"\\\n",
    "    instrument_list:\n",
    "        SHFQA:\n",
    "        - address: DEV12096\n",
    "          uid: device_shfqa\n",
    "        SHFSG:\n",
    "        - address: DEV12173\n",
    "          uid: device_shfsg\n",
    "        PQSC:  \n",
    "        - address: DEV10084\n",
    "          uid: device_pqsc\n",
    "\n",
    "    connections:\n",
    "        device_shfqa:    \n",
    "            - iq_signal: q0/measure_line\n",
    "              ports: [QACHANNELS/0/OUTPUT]\n",
    "            - acquire_signal: q0/acquire_line\n",
    "              ports: [QACHANNELS/0/INPUT] \n",
    "            - iq_signal: q1/measure_line\n",
    "              ports: [QACHANNELS/0/OUTPUT]\n",
    "            - acquire_signal: q1/acquire_line\n",
    "              ports: [QACHANNELS/0/INPUT] \n",
    "            - iq_signal: q2/measure_line\n",
    "              ports: [QACHANNELS/0/OUTPUT]\n",
    "            - acquire_signal: q2/acquire_line\n",
    "              ports: [QACHANNELS/0/INPUT] \n",
    "            - iq_signal: q3/measure_line\n",
    "              ports: [QACHANNELS/0/OUTPUT]\n",
    "            - acquire_signal: q3/acquire_line\n",
    "              ports: [QACHANNELS/0/INPUT]\n",
    "\n",
    "        device_shfsg:\n",
    "            - iq_signal: q0/drive_line\n",
    "              ports: SGCHANNELS/0/OUTPUT\n",
    "            - iq_signal: q0/drive_line_ef\n",
    "              ports: SGCHANNELS/0/OUTPUT\n",
    "            - iq_signal: q1/drive_line\n",
    "              ports: SGCHANNELS/1/OUTPUT\n",
    "            - iq_signal: q1/drive_line_ef\n",
    "              ports: SGCHANNELS/1/OUTPUT\n",
    "            - iq_signal: q2/drive_line\n",
    "              ports: SGCHANNELS/2/OUTPUT\n",
    "            - iq_signal: q2/drive_line_ef\n",
    "              ports: SGCHANNELS/2/OUTPUT\n",
    "            - iq_signal: q3/drive_line\n",
    "              ports: SGCHANNELS/3/OUTPUT\n",
    "            - iq_signal: q3/drive_line_ef\n",
    "              ports: SGCHANNELS/3/OUTPUT\n",
    "            - iq_signal: q4/drive_line\n",
    "              ports: SGCHANNELS/4/OUTPUT\n",
    "            - iq_signal: q4/drive_line_ef\n",
    "              ports: SGCHANNELS/4/OUTPUT\n",
    "            - iq_signal: q5/drive_line\n",
    "              ports: SGCHANNELS/5/OUTPUT\n",
    "            - iq_signal: q5/drive_line_ef\n",
    "              ports: SGCHANNELS/5/OUTPUT\n",
    "            - iq_signal: q6/drive_line\n",
    "              ports: SGCHANNELS/6/OUTPUT\n",
    "            - iq_signal: q6/drive_line_ef\n",
    "              ports: SGCHANNELS/6/OUTPUT\n",
    "            - iq_signal: q7/drive_line\n",
    "              ports: SGCHANNELS/7/OUTPUT\n",
    "            - iq_signal: q7/drive_line_ef\n",
    "              ports: SGCHANNELS/7/OUTPUT\n",
    "        \n",
    "        device_pqsc:\n",
    "            - to: device_shfqa\n",
    "              port: ZSYNCS/2\n",
    "            - to: device_shfsg\n",
    "              port: ZSYNCS/1\n",
    "            - internal_clock_signal\n",
    "              \n",
    "    \"\"\"\n",
    "    device_setup = DeviceSetup.from_descriptor(\n",
    "        yaml_text=descriptor,\n",
    "        server_host=\"localhost\",\n",
    "        server_port=8004,\n",
    "        setup_name=\"jw_setup\",\n",
    "    )\n",
    "    \n",
    "    return device_setup"
   ]
  },
  {
   "cell_type": "code",
   "execution_count": 80,
   "metadata": {},
   "outputs": [],
   "source": [
    "device_setup = make_device_setup()"
   ]
  },
  {
   "cell_type": "code",
   "execution_count": 94,
   "metadata": {},
   "outputs": [
    {
     "data": {
      "text/plain": [
       "PQSC(uid='device_pqsc', interface='1GbE', connections=[Connection(direction=IODirection.OUT, local_path=None, local_port='ZSYNCS/2', remote_path='device_shfqa', remote_port='0', signal_type=IOSignalType.ZSYNC), Connection(direction=IODirection.OUT, local_path=None, local_port='ZSYNCS/1', remote_path='device_shfsg', remote_port='0', signal_type=IOSignalType.ZSYNC)], server_uid='zi_server', address='DEV10084', reference_clock_source=<ReferenceClockSource.INTERNAL: 'internal'>, reference_clock=10000000.0)"
      ]
     },
     "execution_count": 94,
     "metadata": {},
     "output_type": "execute_result"
    }
   ],
   "source": [
    "device_setup.instruments[2]"
   ]
  },
  {
   "cell_type": "code",
   "execution_count": 82,
   "metadata": {},
   "outputs": [
    {
     "data": {
      "text/plain": [
       "{'q0': LogicalSignalGroup(uid='q0', logical_signals={'measure_line': LogicalSignal(uid='q0/measure_line', direction=IODirection.OUT, name='measure_line', calibration=None, path='/logical_signal_groups/q0/measure_line', physical_channel=PhysicalChannel(uid=device_shfqa/qachannels_0_output, type=PhysicalChannelType.IQ_CHANNEL, name=qachannels_0_output, path=/physical_channel_groups/device_shfqa/qachannels_0_output, calibration=None)), 'acquire_line': LogicalSignal(uid='q0/acquire_line', direction=IODirection.IN, name='acquire_line', calibration=None, path='/logical_signal_groups/q0/acquire_line', physical_channel=PhysicalChannel(uid=device_shfqa/qachannels_0_input, type=PhysicalChannelType.IQ_CHANNEL, name=qachannels_0_input, path=/physical_channel_groups/device_shfqa/qachannels_0_input, calibration=None)), 'drive_line': LogicalSignal(uid='q0/drive_line', direction=IODirection.OUT, name='drive_line', calibration=None, path='/logical_signal_groups/q0/drive_line', physical_channel=PhysicalChannel(uid=device_shfsg/sgchannels_0_output, type=PhysicalChannelType.IQ_CHANNEL, name=sgchannels_0_output, path=/physical_channel_groups/device_shfsg/sgchannels_0_output, calibration=None)), 'drive_line_ef': LogicalSignal(uid='q0/drive_line_ef', direction=IODirection.OUT, name='drive_line_ef', calibration=None, path='/logical_signal_groups/q0/drive_line_ef', physical_channel=PhysicalChannel(uid=device_shfsg/sgchannels_0_output, type=PhysicalChannelType.IQ_CHANNEL, name=sgchannels_0_output, path=/physical_channel_groups/device_shfsg/sgchannels_0_output, calibration=None))}),\n",
       " 'q1': LogicalSignalGroup(uid='q1', logical_signals={'measure_line': LogicalSignal(uid='q1/measure_line', direction=IODirection.OUT, name='measure_line', calibration=None, path='/logical_signal_groups/q1/measure_line', physical_channel=PhysicalChannel(uid=device_shfqa/qachannels_0_output, type=PhysicalChannelType.IQ_CHANNEL, name=qachannels_0_output, path=/physical_channel_groups/device_shfqa/qachannels_0_output, calibration=None)), 'acquire_line': LogicalSignal(uid='q1/acquire_line', direction=IODirection.IN, name='acquire_line', calibration=None, path='/logical_signal_groups/q1/acquire_line', physical_channel=PhysicalChannel(uid=device_shfqa/qachannels_0_input, type=PhysicalChannelType.IQ_CHANNEL, name=qachannels_0_input, path=/physical_channel_groups/device_shfqa/qachannels_0_input, calibration=None)), 'drive_line': LogicalSignal(uid='q1/drive_line', direction=IODirection.OUT, name='drive_line', calibration=None, path='/logical_signal_groups/q1/drive_line', physical_channel=PhysicalChannel(uid=device_shfsg/sgchannels_1_output, type=PhysicalChannelType.IQ_CHANNEL, name=sgchannels_1_output, path=/physical_channel_groups/device_shfsg/sgchannels_1_output, calibration=None)), 'drive_line_ef': LogicalSignal(uid='q1/drive_line_ef', direction=IODirection.OUT, name='drive_line_ef', calibration=None, path='/logical_signal_groups/q1/drive_line_ef', physical_channel=PhysicalChannel(uid=device_shfsg/sgchannels_1_output, type=PhysicalChannelType.IQ_CHANNEL, name=sgchannels_1_output, path=/physical_channel_groups/device_shfsg/sgchannels_1_output, calibration=None))}),\n",
       " 'q2': LogicalSignalGroup(uid='q2', logical_signals={'measure_line': LogicalSignal(uid='q2/measure_line', direction=IODirection.OUT, name='measure_line', calibration=None, path='/logical_signal_groups/q2/measure_line', physical_channel=PhysicalChannel(uid=device_shfqa/qachannels_0_output, type=PhysicalChannelType.IQ_CHANNEL, name=qachannels_0_output, path=/physical_channel_groups/device_shfqa/qachannels_0_output, calibration=None)), 'acquire_line': LogicalSignal(uid='q2/acquire_line', direction=IODirection.IN, name='acquire_line', calibration=None, path='/logical_signal_groups/q2/acquire_line', physical_channel=PhysicalChannel(uid=device_shfqa/qachannels_0_input, type=PhysicalChannelType.IQ_CHANNEL, name=qachannels_0_input, path=/physical_channel_groups/device_shfqa/qachannels_0_input, calibration=None)), 'drive_line': LogicalSignal(uid='q2/drive_line', direction=IODirection.OUT, name='drive_line', calibration=None, path='/logical_signal_groups/q2/drive_line', physical_channel=PhysicalChannel(uid=device_shfsg/sgchannels_2_output, type=PhysicalChannelType.IQ_CHANNEL, name=sgchannels_2_output, path=/physical_channel_groups/device_shfsg/sgchannels_2_output, calibration=None)), 'drive_line_ef': LogicalSignal(uid='q2/drive_line_ef', direction=IODirection.OUT, name='drive_line_ef', calibration=None, path='/logical_signal_groups/q2/drive_line_ef', physical_channel=PhysicalChannel(uid=device_shfsg/sgchannels_2_output, type=PhysicalChannelType.IQ_CHANNEL, name=sgchannels_2_output, path=/physical_channel_groups/device_shfsg/sgchannels_2_output, calibration=None))}),\n",
       " 'q3': LogicalSignalGroup(uid='q3', logical_signals={'measure_line': LogicalSignal(uid='q3/measure_line', direction=IODirection.OUT, name='measure_line', calibration=None, path='/logical_signal_groups/q3/measure_line', physical_channel=PhysicalChannel(uid=device_shfqa/qachannels_0_output, type=PhysicalChannelType.IQ_CHANNEL, name=qachannels_0_output, path=/physical_channel_groups/device_shfqa/qachannels_0_output, calibration=None)), 'acquire_line': LogicalSignal(uid='q3/acquire_line', direction=IODirection.IN, name='acquire_line', calibration=None, path='/logical_signal_groups/q3/acquire_line', physical_channel=PhysicalChannel(uid=device_shfqa/qachannels_0_input, type=PhysicalChannelType.IQ_CHANNEL, name=qachannels_0_input, path=/physical_channel_groups/device_shfqa/qachannels_0_input, calibration=None)), 'drive_line': LogicalSignal(uid='q3/drive_line', direction=IODirection.OUT, name='drive_line', calibration=None, path='/logical_signal_groups/q3/drive_line', physical_channel=PhysicalChannel(uid=device_shfsg/sgchannels_3_output, type=PhysicalChannelType.IQ_CHANNEL, name=sgchannels_3_output, path=/physical_channel_groups/device_shfsg/sgchannels_3_output, calibration=None)), 'drive_line_ef': LogicalSignal(uid='q3/drive_line_ef', direction=IODirection.OUT, name='drive_line_ef', calibration=None, path='/logical_signal_groups/q3/drive_line_ef', physical_channel=PhysicalChannel(uid=device_shfsg/sgchannels_3_output, type=PhysicalChannelType.IQ_CHANNEL, name=sgchannels_3_output, path=/physical_channel_groups/device_shfsg/sgchannels_3_output, calibration=None))}),\n",
       " 'q4': LogicalSignalGroup(uid='q4', logical_signals={'drive_line': LogicalSignal(uid='q4/drive_line', direction=IODirection.OUT, name='drive_line', calibration=None, path='/logical_signal_groups/q4/drive_line', physical_channel=PhysicalChannel(uid=device_shfsg/sgchannels_4_output, type=PhysicalChannelType.IQ_CHANNEL, name=sgchannels_4_output, path=/physical_channel_groups/device_shfsg/sgchannels_4_output, calibration=None)), 'drive_line_ef': LogicalSignal(uid='q4/drive_line_ef', direction=IODirection.OUT, name='drive_line_ef', calibration=None, path='/logical_signal_groups/q4/drive_line_ef', physical_channel=PhysicalChannel(uid=device_shfsg/sgchannels_4_output, type=PhysicalChannelType.IQ_CHANNEL, name=sgchannels_4_output, path=/physical_channel_groups/device_shfsg/sgchannels_4_output, calibration=None))}),\n",
       " 'q5': LogicalSignalGroup(uid='q5', logical_signals={'drive_line': LogicalSignal(uid='q5/drive_line', direction=IODirection.OUT, name='drive_line', calibration=None, path='/logical_signal_groups/q5/drive_line', physical_channel=PhysicalChannel(uid=device_shfsg/sgchannels_5_output, type=PhysicalChannelType.IQ_CHANNEL, name=sgchannels_5_output, path=/physical_channel_groups/device_shfsg/sgchannels_5_output, calibration=None)), 'drive_line_ef': LogicalSignal(uid='q5/drive_line_ef', direction=IODirection.OUT, name='drive_line_ef', calibration=None, path='/logical_signal_groups/q5/drive_line_ef', physical_channel=PhysicalChannel(uid=device_shfsg/sgchannels_5_output, type=PhysicalChannelType.IQ_CHANNEL, name=sgchannels_5_output, path=/physical_channel_groups/device_shfsg/sgchannels_5_output, calibration=None))}),\n",
       " 'q6': LogicalSignalGroup(uid='q6', logical_signals={'drive_line': LogicalSignal(uid='q6/drive_line', direction=IODirection.OUT, name='drive_line', calibration=None, path='/logical_signal_groups/q6/drive_line', physical_channel=PhysicalChannel(uid=device_shfsg/sgchannels_6_output, type=PhysicalChannelType.IQ_CHANNEL, name=sgchannels_6_output, path=/physical_channel_groups/device_shfsg/sgchannels_6_output, calibration=None)), 'drive_line_ef': LogicalSignal(uid='q6/drive_line_ef', direction=IODirection.OUT, name='drive_line_ef', calibration=None, path='/logical_signal_groups/q6/drive_line_ef', physical_channel=PhysicalChannel(uid=device_shfsg/sgchannels_6_output, type=PhysicalChannelType.IQ_CHANNEL, name=sgchannels_6_output, path=/physical_channel_groups/device_shfsg/sgchannels_6_output, calibration=None))}),\n",
       " 'q7': LogicalSignalGroup(uid='q7', logical_signals={'drive_line': LogicalSignal(uid='q7/drive_line', direction=IODirection.OUT, name='drive_line', calibration=None, path='/logical_signal_groups/q7/drive_line', physical_channel=PhysicalChannel(uid=device_shfsg/sgchannels_7_output, type=PhysicalChannelType.IQ_CHANNEL, name=sgchannels_7_output, path=/physical_channel_groups/device_shfsg/sgchannels_7_output, calibration=None)), 'drive_line_ef': LogicalSignal(uid='q7/drive_line_ef', direction=IODirection.OUT, name='drive_line_ef', calibration=None, path='/logical_signal_groups/q7/drive_line_ef', physical_channel=PhysicalChannel(uid=device_shfsg/sgchannels_7_output, type=PhysicalChannelType.IQ_CHANNEL, name=sgchannels_7_output, path=/physical_channel_groups/device_shfsg/sgchannels_7_output, calibration=None))})}"
      ]
     },
     "execution_count": 82,
     "metadata": {},
     "output_type": "execute_result"
    }
   ],
   "source": [
    "device_setup.logical_signal_groups"
   ]
  },
  {
   "cell_type": "code",
   "execution_count": 83,
   "metadata": {},
   "outputs": [],
   "source": [
    "def define_calibration(config):\n",
    "    \n",
    "     # the calibration object will later be applied to the device setup\n",
    "    my_calibration = Calibration()\n",
    "\n",
    "\n",
    "    my_calibration[\"/logical_signal_groups/\"+ name +\"/drive_line\"] = \\\n",
    "        SignalCalibration(\n",
    "           # each logical signal can have an oscillator associated with it\n",
    "            oscillator=Oscillator(\n",
    "                frequency=config[name]['freq'],\n",
    "                modulation_type=ModulationType.HARDWARE\n",
    "            ),\n",
    "            local_oscillator=Oscillator(\n",
    "                frequency=config[\"lo\"]['qb_lo'],\n",
    "            ),\n",
    "            range=config[name][\"range\"]-20\n",
    "        )\n",
    "    \n",
    "    # readout drive line\n",
    "    my_calibration[\"/logical_signal_groups/\"+name+\"/measure_line\"] = \\\n",
    "         SignalCalibration(\n",
    "            oscillator=Oscillator(\n",
    "                frequency=config[name]['ro'],\n",
    "                modulation_type=ModulationType.SOFTWARE\n",
    "            ),\n",
    "            port_delay=config[\"rr\"]['ro_delay'],\n",
    "            local_oscillator=Oscillator(\n",
    "                frequency=config[\"lo\"]['ro_lo'],\n",
    "            ),\n",
    "           range=config[\"rr\"][\"range\"]\n",
    "       )\n",
    "    # acquisition line\n",
    "    my_calibration[\"/logical_signal_groups/\"+name+\"/acquire_line\"] = \\\n",
    "         SignalCalibration(\n",
    "            oscillator=Oscillator(\n",
    "                frequency=config[name][\"ro\"],\n",
    "                modulation_type=ModulationType.SOFTWARE\n",
    "            ),\n",
    "            # add an offset between the readout pulse and the start of the data acquisition - to compensate for round-trip time of readout pulse \n",
    "            port_delay=config[\"rr\"]['ro_delay'] + config[\"rr\"]['ro_int_delay'],\n",
    "            local_oscillator=Oscillator(\n",
    "                frequency=config[\"lo\"]['ro_lo'],\n",
    "            ),\n",
    "            range=config[\"rr\"][\"range\"]\n",
    "        )\n",
    "  \n",
    "    return my_calibration"
   ]
  },
  {
   "cell_type": "code",
   "execution_count": 84,
   "metadata": {},
   "outputs": [],
   "source": [
    "config_calibration = define_calibration(config=config)\n",
    "device_setup.set_calibration(config_calibration)"
   ]
  },
  {
   "cell_type": "code",
   "execution_count": 85,
   "metadata": {},
   "outputs": [
    {
     "name": "stdout",
     "output_type": "stream",
     "text": [
      "2023.03.21 16:07:57.531 laboneq.controller.laboneq_logging INFO   Logging initialized from [Default inline config in laboneq.controller.laboneq_logging] logdir is d:\\4. JWKim\\laboneq\\examples\\laboneq_output\\log\n",
      "2023.03.21 16:07:57.532 laboneq.controller.controller  INFO   VERSION: laboneq 2.1.0\n",
      "2023.03.21 16:07:57.533 laboneq.controller.devices.device_collection INFO   Connecting to data server at localhost:8004\n",
      "2023.03.21 16:07:57.748 laboneq.controller.communication INFO   Connected to Zurich Instrument's Data Server version 22.08 at localhost:8004\n",
      "2023.03.21 16:07:58.941 laboneq.controller.devices.device_collection INFO   Configuring clock sources\n",
      "2023.03.21 16:07:59.131 laboneq.controller.devices.device_collection INFO   Clock sources configured\n"
     ]
    },
    {
     "data": {
      "text/plain": [
       "<laboneq.dsl.session.ConnectionState at 0x2105a076d00>"
      ]
     },
     "execution_count": 85,
     "metadata": {},
     "output_type": "execute_result"
    }
   ],
   "source": [
    "emulate=False\n",
    "my_session = Session(device_setup=device_setup)\n",
    "my_session.connect(do_emulation=emulate)"
   ]
  },
  {
   "cell_type": "code",
   "execution_count": 86,
   "metadata": {},
   "outputs": [],
   "source": [
    "amp_min = 0\n",
    "amp_max = 1\n",
    "amp_num = 61\n",
    "n_average = 9\n",
    "\n",
    "gaussian_pulse = pulse_library.gaussian(\n",
    "    uid=\"gaussian_pulse\", length=config[name]['drive_len'], amplitude=1)\n",
    "drive_pulse = pulse_library.const(\n",
    "    uid = \"drive_pulse\", length=config[name]['drive_len'], amplitude=1)\n",
    "readout_pulse = pulse_library.const(\n",
    "    length=config[\"rr\"][\"ro_len\"], amplitude=config[\"rr\"]['ro_amp'])\n",
    "readout_weighting_function = pulse_library.const(\n",
    "    uid=\"readout_weighting_function\", length=config[\"rr\"][\"ro_len\"], amplitude=1.0)\n",
    "def amplitude_rabi(rabi_sweep):\n",
    "    exp_rabi = Experiment(\n",
    "        uid=\"Amplitude Rabi\",\n",
    "        signals=[\n",
    "            ExperimentSignal(\"drive\"),\n",
    "            ExperimentSignal(\"measure\"),\n",
    "            ExperimentSignal(\"acquire\"),\n",
    "        ],\n",
    "    )\n",
    "\n",
    "    with exp_rabi.acquire_loop_rt(uid=\"rabi_shots\",\n",
    "            count=pow(2, n_average),\n",
    "            averaging_mode=AveragingMode.CYCLIC,\n",
    "            acquisition_type=AcquisitionType.INTEGRATION):\n",
    "        with exp_rabi.sweep(uid=\"rabi_sweep\", parameter=LinearSweepParameter(uid=\"rabi_amp\", start=amp_min, stop=amp_max, count=amp_num)):\n",
    "            with exp_rabi.section(uid=\"qubit_excitation\",\n",
    "                                    alignment=SectionAlignment.RIGHT):\n",
    "                 exp_rabi.play(signal=\"drive\", pulse=gaussian_pulse, amplitude=rabi_sweep)\n",
    "            with exp_rabi.section(uid=\"qubit_readout\"):\n",
    "                 exp_rabi.play(signal=\"measure\", pulse=readout_pulse, phase=config[name][\"ro_phase\"])\n",
    "                 exp_rabi.acquire(\n",
    "                        signal=\"acquire\",\n",
    "                        handle=\"q0_rabi\",\n",
    "                        kernel=readout_weighting_function,\n",
    "                    )\n",
    "                 exp_rabi.reserve(\"drive\")\n",
    "            with exp_rabi.section(uid=\"delay\", length=config[\"rr\"]['relax']):\n",
    "                 exp_rabi.reserve(signal=\"measure\")\n",
    "                \n",
    "    return exp_rabi"
   ]
  },
  {
   "cell_type": "code",
   "execution_count": 87,
   "metadata": {},
   "outputs": [],
   "source": [
    "exp_calibration = Calibration()\n",
    "exp_calibration[\"drive\"] = SignalCalibration(\n",
    "        oscillator = Oscillator(\n",
    "                frequency=config[name][\"freq\"],\n",
    "                modulation_type=ModulationType.HARDWARE,\n",
    "                ),\n",
    "            )\n",
    "\n",
    "exp_calibration[\"measure\"] = SignalCalibration(\n",
    "        oscillator = Oscillator(\n",
    "                frequency=config[name][\"ro\"],\n",
    "                modulation_type=ModulationType.SOFTWARE,\n",
    "                ),\n",
    "            )\n",
    "exp_calibration[\"acquire\"] = SignalCalibration(\n",
    "        oscillator = Oscillator(\n",
    "                frequency=config[name][\"ro\"],\n",
    "                modulation_type=ModulationType.SOFTWARE,\n",
    "                ),\n",
    "            )\n",
    "signal_map = {\"drive\": \"/logical_signal_groups/\"+name+\"/drive_line\",\n",
    "        \"measure\": \"/logical_signal_groups/\"+name+\"/measure_line\",\n",
    "        \"acquire\": \"/logical_signal_groups/\"+name+\"/acquire_line\",\n",
    "        }"
   ]
  },
  {
   "cell_type": "code",
   "execution_count": 88,
   "metadata": {},
   "outputs": [
    {
     "name": "stdout",
     "output_type": "stream",
     "text": [
      "2023.03.21 16:08:51.802 laboneq.compiler.workflow.compiler INFO   Starting LabOne Q Compiler run...\n",
      "2023.03.21 16:08:51.913 laboneq.compiler.workflow.compiler INFO   Total seqC lines generated: 706\n",
      "2023.03.21 16:08:51.914 laboneq.compiler.workflow.compiler INFO   Total sample points generated: 56800\n",
      "2023.03.21 16:08:51.914 laboneq.compiler.workflow.compiler INFO   Finished LabOne Q Compiler run.\n",
      "2023.03.21 16:09:03.557 laboneq.controller.util        CRITICAL PQSC:DEV10084: Node '/dev10084/zsyncs/2/connection/status' didn't switch to '2' within 10s. Last value: 0\n"
     ]
    },
    {
     "name": "stderr",
     "output_type": "stream",
     "text": [
      "2023.03.21 16:09:03.557 laboneq.controller.util        CRITICAL PQSC:DEV10084: Node '/dev10084/zsyncs/2/connection/status' didn't switch to '2' within 10s. Last value: 0\n"
     ]
    },
    {
     "ename": "LabOneQControllerException",
     "evalue": "PQSC:DEV10084: Node '/dev10084/zsyncs/2/connection/status' didn't switch to '2' within 10s. Last value: 0",
     "output_type": "error",
     "traceback": [
      "\u001b[1;31m---------------------------------------------------------------------------\u001b[0m",
      "\u001b[1;31mLabOneQControllerException\u001b[0m                Traceback (most recent call last)",
      "Cell \u001b[1;32mIn[88], line 7\u001b[0m\n\u001b[0;32m      4\u001b[0m exp_rabi\u001b[39m.\u001b[39mset_signal_map(signal_map)\n\u001b[0;32m      6\u001b[0m compiled_experiment \u001b[39m=\u001b[39m my_session\u001b[39m.\u001b[39mcompile(exp_rabi)\n\u001b[1;32m----> 7\u001b[0m my_results \u001b[39m=\u001b[39m my_session\u001b[39m.\u001b[39;49mrun(compiled_experiment)\n",
      "File \u001b[1;32mc:\\Users\\user\\anaconda3\\envs\\ydkim\\lib\\site-packages\\laboneq\\dsl\\session.py:75\u001b[0m, in \u001b[0;36mSession._SessionDeco.entrypoint.<locals>.wrapper\u001b[1;34m(self, *args, **kwargs)\u001b[0m\n\u001b[0;32m     72\u001b[0m \u001b[39m@functools\u001b[39m\u001b[39m.\u001b[39mwraps(func)\n\u001b[0;32m     73\u001b[0m \u001b[39mdef\u001b[39;00m \u001b[39mwrapper\u001b[39m(\u001b[39mself\u001b[39m, \u001b[39m*\u001b[39margs, \u001b[39m*\u001b[39m\u001b[39m*\u001b[39mkwargs):\n\u001b[0;32m     74\u001b[0m     \u001b[39mself\u001b[39m\u001b[39m.\u001b[39m_call_stack\u001b[39m.\u001b[39mappend(func\u001b[39m.\u001b[39m\u001b[39m__name__\u001b[39m)\n\u001b[1;32m---> 75\u001b[0m     res \u001b[39m=\u001b[39m func(\u001b[39mself\u001b[39m, \u001b[39m*\u001b[39margs, \u001b[39m*\u001b[39m\u001b[39m*\u001b[39mkwargs)\n\u001b[0;32m     76\u001b[0m     \u001b[39mself\u001b[39m\u001b[39m.\u001b[39m_call_stack\u001b[39m.\u001b[39mpop()\n\u001b[0;32m     77\u001b[0m     \u001b[39mreturn\u001b[39;00m res\n",
      "File \u001b[1;32mc:\\Users\\user\\anaconda3\\envs\\ydkim\\lib\\site-packages\\laboneq\\_observability\\tracing\\_noop_tracer.py:48\u001b[0m, in \u001b[0;36mtrace.<locals>.outer_wrapper.<locals>.wrapper\u001b[1;34m(*args, **kwargs)\u001b[0m\n\u001b[0;32m     46\u001b[0m \u001b[39m@wraps\u001b[39m(func)\n\u001b[0;32m     47\u001b[0m \u001b[39mdef\u001b[39;00m \u001b[39mwrapper\u001b[39m(\u001b[39m*\u001b[39margs, \u001b[39m*\u001b[39m\u001b[39m*\u001b[39mkwargs):\n\u001b[1;32m---> 48\u001b[0m     \u001b[39mreturn\u001b[39;00m func(\u001b[39m*\u001b[39margs, \u001b[39m*\u001b[39m\u001b[39m*\u001b[39mkwargs)\n",
      "File \u001b[1;32mc:\\Users\\user\\anaconda3\\envs\\ydkim\\lib\\site-packages\\laboneq\\dsl\\session.py:308\u001b[0m, in \u001b[0;36mSession.run\u001b[1;34m(self, experiment)\u001b[0m\n\u001b[0;32m    298\u001b[0m     \u001b[39mreturn\u001b[39;00m\n\u001b[0;32m    300\u001b[0m \u001b[39mself\u001b[39m\u001b[39m.\u001b[39m_last_results \u001b[39m=\u001b[39m Results(\n\u001b[0;32m    301\u001b[0m     experiment\u001b[39m=\u001b[39m\u001b[39mself\u001b[39m\u001b[39m.\u001b[39mexperiment,\n\u001b[0;32m    302\u001b[0m     device_setup\u001b[39m=\u001b[39m\u001b[39mself\u001b[39m\u001b[39m.\u001b[39mdevice_setup,\n\u001b[1;32m   (...)\u001b[0m\n\u001b[0;32m    306\u001b[0m     execution_errors\u001b[39m=\u001b[39m[],\n\u001b[0;32m    307\u001b[0m )\n\u001b[1;32m--> 308\u001b[0m LabOneQFacade\u001b[39m.\u001b[39;49mrun(\u001b[39mself\u001b[39;49m)\n\u001b[0;32m    309\u001b[0m \u001b[39mreturn\u001b[39;00m \u001b[39mself\u001b[39m\u001b[39m.\u001b[39mresults\n",
      "File \u001b[1;32mc:\\Users\\user\\anaconda3\\envs\\ydkim\\lib\\site-packages\\laboneq\\dsl\\laboneq_facade.py:69\u001b[0m, in \u001b[0;36mLabOneQFacade.run\u001b[1;34m(session)\u001b[0m\n\u001b[0;32m     66\u001b[0m \u001b[39mif\u001b[39;00m controller\u001b[39m.\u001b[39m_run_parameters\u001b[39m.\u001b[39mshut_down \u001b[39mis\u001b[39;00m \u001b[39mTrue\u001b[39;00m:\n\u001b[0;32m     67\u001b[0m     atexit\u001b[39m.\u001b[39mregister(ctrl\u001b[39m.\u001b[39m_stop_controller, controller)\n\u001b[1;32m---> 69\u001b[0m controller\u001b[39m.\u001b[39;49mexecute_compiled(session\u001b[39m.\u001b[39;49mcompiled_experiment, session)\n",
      "File \u001b[1;32mc:\\Users\\user\\anaconda3\\envs\\ydkim\\lib\\site-packages\\laboneq\\controller\\controller.py:460\u001b[0m, in \u001b[0;36mController.execute_compiled\u001b[1;34m(self, compiled_experiment, session)\u001b[0m\n\u001b[0;32m    458\u001b[0m \u001b[39mtry\u001b[39;00m:\n\u001b[0;32m    459\u001b[0m     \u001b[39mself\u001b[39m\u001b[39m.\u001b[39m_devices\u001b[39m.\u001b[39mstart_monitor()\n\u001b[1;32m--> 460\u001b[0m     \u001b[39mself\u001b[39;49m\u001b[39m.\u001b[39;49m_initialize_devices()\n\u001b[0;32m    462\u001b[0m     \u001b[39m# Ensure no side effects from the previous execution in the same session\u001b[39;00m\n\u001b[0;32m    463\u001b[0m     \u001b[39mself\u001b[39m\u001b[39m.\u001b[39m_current_waves \u001b[39m=\u001b[39m []\n",
      "File \u001b[1;32mc:\\Users\\user\\anaconda3\\envs\\ydkim\\lib\\site-packages\\laboneq\\controller\\controller.py:346\u001b[0m, in \u001b[0;36mController._initialize_devices\u001b[1;34m(self)\u001b[0m\n\u001b[0;32m    344\u001b[0m \u001b[39mself\u001b[39m\u001b[39m.\u001b[39m_configure_leaders()\n\u001b[0;32m    345\u001b[0m \u001b[39mself\u001b[39m\u001b[39m.\u001b[39m_configure_followers()\n\u001b[1;32m--> 346\u001b[0m \u001b[39mself\u001b[39;49m\u001b[39m.\u001b[39;49m_configure_triggers()\n\u001b[0;32m    347\u001b[0m \u001b[39mself\u001b[39m\u001b[39m.\u001b[39m_wait_for_conditions_to_start()\n",
      "File \u001b[1;32mc:\\Users\\user\\anaconda3\\envs\\ydkim\\lib\\site-packages\\laboneq\\controller\\controller.py:334\u001b[0m, in \u001b[0;36mController._configure_triggers\u001b[1;34m(self)\u001b[0m\n\u001b[0;32m    331\u001b[0m     \u001b[39mif\u001b[39;00m init \u001b[39mis\u001b[39;00m \u001b[39mNone\u001b[39;00m:\n\u001b[0;32m    332\u001b[0m         \u001b[39mcontinue\u001b[39;00m\n\u001b[0;32m    333\u001b[0m     nodes_to_configure_triggers\u001b[39m.\u001b[39mextend(\n\u001b[1;32m--> 334\u001b[0m         device\u001b[39m.\u001b[39;49mcollect_trigger_configuration_nodes(init, \u001b[39mself\u001b[39;49m\u001b[39m.\u001b[39;49m_recipe_data)\n\u001b[0;32m    335\u001b[0m     )\n\u001b[0;32m    337\u001b[0m batch_set(nodes_to_configure_triggers)\n",
      "File \u001b[1;32mc:\\Users\\user\\anaconda3\\envs\\ydkim\\lib\\site-packages\\laboneq\\controller\\devices\\device_pqsc.py:95\u001b[0m, in \u001b[0;36mDevicePQSC.collect_trigger_configuration_nodes\u001b[1;34m(self, initialization, recipe_data)\u001b[0m\n\u001b[0;32m     87\u001b[0m \u001b[39mdef\u001b[39;00m \u001b[39mcollect_trigger_configuration_nodes\u001b[39m(\n\u001b[0;32m     88\u001b[0m     \u001b[39mself\u001b[39m, initialization: Initialization\u001b[39m.\u001b[39mData, recipe_data: RecipeData\n\u001b[0;32m     89\u001b[0m ) \u001b[39m-\u001b[39m\u001b[39m>\u001b[39m List[DaqNodeAction]:\n\u001b[1;32m   (...)\u001b[0m\n\u001b[0;32m     92\u001b[0m     \u001b[39m# subscription / poll\u001b[39;00m\n\u001b[0;32m     93\u001b[0m     \u001b[39m# TODO(2K): Verify also the downlink device serial (.../connection/serial) matches\u001b[39;00m\n\u001b[0;32m     94\u001b[0m     \u001b[39mfor\u001b[39;00m port, _ \u001b[39min\u001b[39;00m \u001b[39mself\u001b[39m\u001b[39m.\u001b[39m_downlinks\u001b[39m.\u001b[39mitems():\n\u001b[1;32m---> 95\u001b[0m         \u001b[39mself\u001b[39;49m\u001b[39m.\u001b[39;49m_wait_for_node(\n\u001b[0;32m     96\u001b[0m             \u001b[39mf\u001b[39;49m\u001b[39m\"\u001b[39;49m\u001b[39m/\u001b[39;49m\u001b[39m{\u001b[39;49;00m\u001b[39mself\u001b[39;49m\u001b[39m.\u001b[39;49mserial\u001b[39m}\u001b[39;49;00m\u001b[39m/\u001b[39;49m\u001b[39m{\u001b[39;49;00mport\u001b[39m.\u001b[39;49mlower()\u001b[39m}\u001b[39;49;00m\u001b[39m/connection/status\u001b[39;49m\u001b[39m\"\u001b[39;49m, \u001b[39m2\u001b[39;49m, timeout\u001b[39m=\u001b[39;49m\u001b[39m10\u001b[39;49m\n\u001b[0;32m     97\u001b[0m         )\n\u001b[0;32m     99\u001b[0m     \u001b[39mself\u001b[39m\u001b[39m.\u001b[39m_logger\u001b[39m.\u001b[39mdebug(\n\u001b[0;32m    100\u001b[0m         \u001b[39m\"\u001b[39m\u001b[39m%s\u001b[39;00m\u001b[39m: Configuring holdoff time: \u001b[39m\u001b[39m%f\u001b[39;00m\u001b[39m s.\u001b[39m\u001b[39m\"\u001b[39m,\n\u001b[0;32m    101\u001b[0m         \u001b[39mself\u001b[39m\u001b[39m.\u001b[39mdev_repr,\n\u001b[0;32m    102\u001b[0m         initialization\u001b[39m.\u001b[39mconfig\u001b[39m.\u001b[39mholdoff,\n\u001b[0;32m    103\u001b[0m     )\n\u001b[0;32m    104\u001b[0m     \u001b[39mself\u001b[39m\u001b[39m.\u001b[39m_logger\u001b[39m.\u001b[39mdebug(\n\u001b[0;32m    105\u001b[0m         \u001b[39m\"\u001b[39m\u001b[39m%s\u001b[39;00m\u001b[39m: Configuring repetitions: \u001b[39m\u001b[39m%d\u001b[39;00m\u001b[39m.\u001b[39m\u001b[39m\"\u001b[39m,\n\u001b[0;32m    106\u001b[0m         \u001b[39mself\u001b[39m\u001b[39m.\u001b[39mdev_repr,\n\u001b[0;32m    107\u001b[0m         initialization\u001b[39m.\u001b[39mconfig\u001b[39m.\u001b[39mrepetitions,\n\u001b[0;32m    108\u001b[0m     )\n",
      "File \u001b[1;32mc:\\Users\\user\\anaconda3\\envs\\ydkim\\lib\\site-packages\\laboneq\\controller\\devices\\device_zi.py:408\u001b[0m, in \u001b[0;36mDeviceZI._wait_for_node\u001b[1;34m(self, path, expected, timeout, guard_time)\u001b[0m\n\u001b[0;32m    406\u001b[0m elapsed \u001b[39m=\u001b[39m floor(now \u001b[39m-\u001b[39m start_time)\n\u001b[0;32m    407\u001b[0m \u001b[39mif\u001b[39;00m now \u001b[39m-\u001b[39m start_time \u001b[39m>\u001b[39m timeout:\n\u001b[1;32m--> 408\u001b[0m     \u001b[39mraise\u001b[39;00m LabOneQControllerException(\n\u001b[0;32m    409\u001b[0m         \u001b[39mf\u001b[39m\u001b[39m\"\u001b[39m\u001b[39m{\u001b[39;00m\u001b[39mself\u001b[39m\u001b[39m.\u001b[39mdev_repr\u001b[39m}\u001b[39;00m\u001b[39m: Node \u001b[39m\u001b[39m'\u001b[39m\u001b[39m{\u001b[39;00mpath\u001b[39m}\u001b[39;00m\u001b[39m'\u001b[39m\u001b[39m didn\u001b[39m\u001b[39m'\u001b[39m\u001b[39mt switch to \u001b[39m\u001b[39m'\u001b[39m\u001b[39m{\u001b[39;00mexpected\u001b[39m}\u001b[39;00m\u001b[39m'\u001b[39m\u001b[39m \u001b[39m\u001b[39m\"\u001b[39m\n\u001b[0;32m    410\u001b[0m         \u001b[39mf\u001b[39m\u001b[39m\"\u001b[39m\u001b[39mwithin \u001b[39m\u001b[39m{\u001b[39;00mtimeout\u001b[39m}\u001b[39;00m\u001b[39ms. Last value: \u001b[39m\u001b[39m{\u001b[39;00mlast_val\u001b[39m}\u001b[39;00m\u001b[39m\"\u001b[39m\n\u001b[0;32m    411\u001b[0m     )\n\u001b[0;32m    412\u001b[0m \u001b[39mif\u001b[39;00m now \u001b[39m-\u001b[39m last_report \u001b[39m>\u001b[39m \u001b[39m5\u001b[39m:\n\u001b[0;32m    413\u001b[0m     \u001b[39mself\u001b[39m\u001b[39m.\u001b[39m_logger\u001b[39m.\u001b[39mdebug(\n\u001b[0;32m    414\u001b[0m         \u001b[39m\"\u001b[39m\u001b[39mWaiting for node \u001b[39m\u001b[39m'\u001b[39m\u001b[39m%s\u001b[39;00m\u001b[39m'\u001b[39m\u001b[39m switching to \u001b[39m\u001b[39m'\u001b[39m\u001b[39m%s\u001b[39;00m\u001b[39m'\u001b[39m\u001b[39m, \u001b[39m\u001b[39m%f\u001b[39;00m\u001b[39m s remaining \u001b[39m\u001b[39m\"\u001b[39m\n\u001b[0;32m    415\u001b[0m         \u001b[39m\"\u001b[39m\u001b[39muntil \u001b[39m\u001b[39m%f\u001b[39;00m\u001b[39m s timeout...\u001b[39m\u001b[39m\"\u001b[39m,\n\u001b[1;32m   (...)\u001b[0m\n\u001b[0;32m    419\u001b[0m         timeout,\n\u001b[0;32m    420\u001b[0m     )\n",
      "\u001b[1;31mLabOneQControllerException\u001b[0m: PQSC:DEV10084: Node '/dev10084/zsyncs/2/connection/status' didn't switch to '2' within 10s. Last value: 0"
     ]
    }
   ],
   "source": [
    "rabi_sweep=LinearSweepParameter(uid=\"rabi_amp\", start=amp_min, stop=amp_max, count=amp_num)\n",
    "exp_rabi = amplitude_rabi(rabi_sweep)\n",
    "exp_rabi.set_calibration(exp_calibration)\n",
    "exp_rabi.set_signal_map(signal_map)\n",
    "\n",
    "compiled_experiment = my_session.compile(exp_rabi)\n",
    "my_results = my_session.run(compiled_experiment)"
   ]
  },
  {
   "cell_type": "code",
   "execution_count": null,
   "metadata": {},
   "outputs": [],
   "source": []
  }
 ],
 "metadata": {
  "kernelspec": {
   "display_name": "ydkim",
   "language": "python",
   "name": "python3"
  },
  "language_info": {
   "codemirror_mode": {
    "name": "ipython",
    "version": 3
   },
   "file_extension": ".py",
   "mimetype": "text/x-python",
   "name": "python",
   "nbconvert_exporter": "python",
   "pygments_lexer": "ipython3",
   "version": "3.9.16"
  },
  "orig_nbformat": 4
 },
 "nbformat": 4,
 "nbformat_minor": 2
}
