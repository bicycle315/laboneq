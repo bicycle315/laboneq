{
 "cells": [
  {
   "cell_type": "code",
   "execution_count": 1,
   "metadata": {},
   "outputs": [],
   "source": [
    "from laboneq.simple import *\n",
    "from helpers.example_notebook_helper import *\n",
    "from helpers.example_notebook_simple import create_device_setup\n",
    "#from zhinst.toolkit import Session\n",
    "from config import config\n",
    "name = \"q0\""
   ]
  },
  {
   "cell_type": "code",
   "execution_count": 2,
   "metadata": {},
   "outputs": [],
   "source": [
    "def make_device_setup():\n",
    "    descriptor=f\"\"\"\\\n",
    "    instrument_list:\n",
    "        SHFQA:\n",
    "        - address: DEV12096\n",
    "          uid: device_shfqa\n",
    "        SHFSG:\n",
    "        - address: DEV12173\n",
    "          uid: device_shfsg\n",
    "        PQSC:  \n",
    "        - address: DEV10084\n",
    "          uid: device_pqsc\n",
    "\n",
    "    connections:\n",
    "        device_shfqa:    \n",
    "            - iq_signal: q0/measure_line\n",
    "              ports: [QACHANNELS/0/OUTPUT]\n",
    "            - acquire_signal: q0/acquire_line\n",
    "              ports: [QACHANNELS/0/INPUT] \n",
    "            - iq_signal: q1/measure_line\n",
    "              ports: [QACHANNELS/0/OUTPUT]\n",
    "            - acquire_signal: q1/acquire_line\n",
    "              ports: [QACHANNELS/0/INPUT] \n",
    "            - iq_signal: q2/measure_line\n",
    "              ports: [QACHANNELS/0/OUTPUT]\n",
    "            - acquire_signal: q2/acquire_line\n",
    "              ports: [QACHANNELS/0/INPUT] \n",
    "            - iq_signal: q3/measure_line\n",
    "              ports: [QACHANNELS/0/OUTPUT]\n",
    "            - acquire_signal: q3/acquire_line\n",
    "              ports: [QACHANNELS/0/INPUT]\n",
    "\n",
    "        device_shfsg:\n",
    "            - iq_signal: q0/drive_line\n",
    "              ports: SGCHANNELS/0/OUTPUT\n",
    "            - iq_signal: q0/drive_line_ef\n",
    "              ports: SGCHANNELS/0/OUTPUT\n",
    "            - iq_signal: q1/drive_line\n",
    "              ports: SGCHANNELS/1/OUTPUT\n",
    "            - iq_signal: q1/drive_line_ef\n",
    "              ports: SGCHANNELS/1/OUTPUT\n",
    "            - iq_signal: q2/drive_line\n",
    "              ports: SGCHANNELS/2/OUTPUT\n",
    "            - iq_signal: q2/drive_line_ef\n",
    "              ports: SGCHANNELS/2/OUTPUT\n",
    "            - iq_signal: q3/drive_line\n",
    "              ports: SGCHANNELS/3/OUTPUT\n",
    "            - iq_signal: q3/drive_line_ef\n",
    "              ports: SGCHANNELS/3/OUTPUT\n",
    "            - iq_signal: q4/drive_line\n",
    "              ports: SGCHANNELS/4/OUTPUT\n",
    "            - iq_signal: q4/drive_line_ef\n",
    "              ports: SGCHANNELS/4/OUTPUT\n",
    "            - iq_signal: q5/drive_line\n",
    "              ports: SGCHANNELS/5/OUTPUT\n",
    "            - iq_signal: q5/drive_line_ef\n",
    "              ports: SGCHANNELS/5/OUTPUT\n",
    "            - iq_signal: q6/drive_line\n",
    "              ports: SGCHANNELS/6/OUTPUT\n",
    "            - iq_signal: q6/drive_line_ef\n",
    "              ports: SGCHANNELS/6/OUTPUT\n",
    "            - iq_signal: q7/drive_line\n",
    "              ports: SGCHANNELS/7/OUTPUT\n",
    "            - iq_signal: q7/drive_line_ef\n",
    "              ports: SGCHANNELS/7/OUTPUT\n",
    "        \n",
    "        # device_pqsc:\n",
    "        #     # - internal_clock_signal\n",
    "        #     - to: device_shfqa\n",
    "        #       port: ZSYNCS/3\n",
    "        #     - to: device_shfsg\n",
    "        #       port: ZSYNCS/1\n",
    "              \n",
    "    \"\"\"\n",
    "    device_setup = DeviceSetup.from_descriptor(\n",
    "        yaml_text=descriptor,\n",
    "        server_host=\"localhost\",\n",
    "        server_port=8004,\n",
    "        setup_name=\"jw_setup\",\n",
    "    )\n",
    "    \n",
    "    return device_setup"
   ]
  },
  {
   "cell_type": "code",
   "execution_count": 3,
   "metadata": {},
   "outputs": [
    {
     "name": "stderr",
     "output_type": "stream",
     "text": [
      "c:\\Users\\user\\anaconda3\\envs\\ydkim\\lib\\site-packages\\laboneq\\dsl\\device\\_device_setup_generator.py:1005: FutureWarning: 'instrument_list' section is deprecated in setup descriptor, use 'instruments' instead.\n",
      "  warnings.warn(\n"
     ]
    }
   ],
   "source": [
    "device_setup = make_device_setup()"
   ]
  },
  {
   "cell_type": "code",
   "execution_count": 4,
   "metadata": {},
   "outputs": [
    {
     "data": {
      "text/plain": [
       "{'q0': LogicalSignalGroup(uid='q0', logical_signals={'measure_line': LogicalSignal(uid='q0/measure_line', direction=IODirection.OUT, name='measure_line', calibration=None, path='/logical_signal_groups/q0/measure_line', physical_channel=PhysicalChannel(uid=device_shfqa/qachannels_0_output, type=PhysicalChannelType.IQ_CHANNEL, name=qachannels_0_output, path=/physical_channel_groups/device_shfqa/qachannels_0_output, calibration=None)), 'acquire_line': LogicalSignal(uid='q0/acquire_line', direction=IODirection.IN, name='acquire_line', calibration=None, path='/logical_signal_groups/q0/acquire_line', physical_channel=PhysicalChannel(uid=device_shfqa/qachannels_0_input, type=PhysicalChannelType.IQ_CHANNEL, name=qachannels_0_input, path=/physical_channel_groups/device_shfqa/qachannels_0_input, calibration=None)), 'drive_line': LogicalSignal(uid='q0/drive_line', direction=IODirection.OUT, name='drive_line', calibration=None, path='/logical_signal_groups/q0/drive_line', physical_channel=PhysicalChannel(uid=device_shfsg/sgchannels_0_output, type=PhysicalChannelType.IQ_CHANNEL, name=sgchannels_0_output, path=/physical_channel_groups/device_shfsg/sgchannels_0_output, calibration=None)), 'drive_line_ef': LogicalSignal(uid='q0/drive_line_ef', direction=IODirection.OUT, name='drive_line_ef', calibration=None, path='/logical_signal_groups/q0/drive_line_ef', physical_channel=PhysicalChannel(uid=device_shfsg/sgchannels_0_output, type=PhysicalChannelType.IQ_CHANNEL, name=sgchannels_0_output, path=/physical_channel_groups/device_shfsg/sgchannels_0_output, calibration=None))}),\n",
       " 'q1': LogicalSignalGroup(uid='q1', logical_signals={'measure_line': LogicalSignal(uid='q1/measure_line', direction=IODirection.OUT, name='measure_line', calibration=None, path='/logical_signal_groups/q1/measure_line', physical_channel=PhysicalChannel(uid=device_shfqa/qachannels_0_output, type=PhysicalChannelType.IQ_CHANNEL, name=qachannels_0_output, path=/physical_channel_groups/device_shfqa/qachannels_0_output, calibration=None)), 'acquire_line': LogicalSignal(uid='q1/acquire_line', direction=IODirection.IN, name='acquire_line', calibration=None, path='/logical_signal_groups/q1/acquire_line', physical_channel=PhysicalChannel(uid=device_shfqa/qachannels_0_input, type=PhysicalChannelType.IQ_CHANNEL, name=qachannels_0_input, path=/physical_channel_groups/device_shfqa/qachannels_0_input, calibration=None)), 'drive_line': LogicalSignal(uid='q1/drive_line', direction=IODirection.OUT, name='drive_line', calibration=None, path='/logical_signal_groups/q1/drive_line', physical_channel=PhysicalChannel(uid=device_shfsg/sgchannels_1_output, type=PhysicalChannelType.IQ_CHANNEL, name=sgchannels_1_output, path=/physical_channel_groups/device_shfsg/sgchannels_1_output, calibration=None)), 'drive_line_ef': LogicalSignal(uid='q1/drive_line_ef', direction=IODirection.OUT, name='drive_line_ef', calibration=None, path='/logical_signal_groups/q1/drive_line_ef', physical_channel=PhysicalChannel(uid=device_shfsg/sgchannels_1_output, type=PhysicalChannelType.IQ_CHANNEL, name=sgchannels_1_output, path=/physical_channel_groups/device_shfsg/sgchannels_1_output, calibration=None))}),\n",
       " 'q2': LogicalSignalGroup(uid='q2', logical_signals={'measure_line': LogicalSignal(uid='q2/measure_line', direction=IODirection.OUT, name='measure_line', calibration=None, path='/logical_signal_groups/q2/measure_line', physical_channel=PhysicalChannel(uid=device_shfqa/qachannels_0_output, type=PhysicalChannelType.IQ_CHANNEL, name=qachannels_0_output, path=/physical_channel_groups/device_shfqa/qachannels_0_output, calibration=None)), 'acquire_line': LogicalSignal(uid='q2/acquire_line', direction=IODirection.IN, name='acquire_line', calibration=None, path='/logical_signal_groups/q2/acquire_line', physical_channel=PhysicalChannel(uid=device_shfqa/qachannels_0_input, type=PhysicalChannelType.IQ_CHANNEL, name=qachannels_0_input, path=/physical_channel_groups/device_shfqa/qachannels_0_input, calibration=None)), 'drive_line': LogicalSignal(uid='q2/drive_line', direction=IODirection.OUT, name='drive_line', calibration=None, path='/logical_signal_groups/q2/drive_line', physical_channel=PhysicalChannel(uid=device_shfsg/sgchannels_2_output, type=PhysicalChannelType.IQ_CHANNEL, name=sgchannels_2_output, path=/physical_channel_groups/device_shfsg/sgchannels_2_output, calibration=None)), 'drive_line_ef': LogicalSignal(uid='q2/drive_line_ef', direction=IODirection.OUT, name='drive_line_ef', calibration=None, path='/logical_signal_groups/q2/drive_line_ef', physical_channel=PhysicalChannel(uid=device_shfsg/sgchannels_2_output, type=PhysicalChannelType.IQ_CHANNEL, name=sgchannels_2_output, path=/physical_channel_groups/device_shfsg/sgchannels_2_output, calibration=None))}),\n",
       " 'q3': LogicalSignalGroup(uid='q3', logical_signals={'measure_line': LogicalSignal(uid='q3/measure_line', direction=IODirection.OUT, name='measure_line', calibration=None, path='/logical_signal_groups/q3/measure_line', physical_channel=PhysicalChannel(uid=device_shfqa/qachannels_0_output, type=PhysicalChannelType.IQ_CHANNEL, name=qachannels_0_output, path=/physical_channel_groups/device_shfqa/qachannels_0_output, calibration=None)), 'acquire_line': LogicalSignal(uid='q3/acquire_line', direction=IODirection.IN, name='acquire_line', calibration=None, path='/logical_signal_groups/q3/acquire_line', physical_channel=PhysicalChannel(uid=device_shfqa/qachannels_0_input, type=PhysicalChannelType.IQ_CHANNEL, name=qachannels_0_input, path=/physical_channel_groups/device_shfqa/qachannels_0_input, calibration=None)), 'drive_line': LogicalSignal(uid='q3/drive_line', direction=IODirection.OUT, name='drive_line', calibration=None, path='/logical_signal_groups/q3/drive_line', physical_channel=PhysicalChannel(uid=device_shfsg/sgchannels_3_output, type=PhysicalChannelType.IQ_CHANNEL, name=sgchannels_3_output, path=/physical_channel_groups/device_shfsg/sgchannels_3_output, calibration=None)), 'drive_line_ef': LogicalSignal(uid='q3/drive_line_ef', direction=IODirection.OUT, name='drive_line_ef', calibration=None, path='/logical_signal_groups/q3/drive_line_ef', physical_channel=PhysicalChannel(uid=device_shfsg/sgchannels_3_output, type=PhysicalChannelType.IQ_CHANNEL, name=sgchannels_3_output, path=/physical_channel_groups/device_shfsg/sgchannels_3_output, calibration=None))}),\n",
       " 'q4': LogicalSignalGroup(uid='q4', logical_signals={'drive_line': LogicalSignal(uid='q4/drive_line', direction=IODirection.OUT, name='drive_line', calibration=None, path='/logical_signal_groups/q4/drive_line', physical_channel=PhysicalChannel(uid=device_shfsg/sgchannels_4_output, type=PhysicalChannelType.IQ_CHANNEL, name=sgchannels_4_output, path=/physical_channel_groups/device_shfsg/sgchannels_4_output, calibration=None)), 'drive_line_ef': LogicalSignal(uid='q4/drive_line_ef', direction=IODirection.OUT, name='drive_line_ef', calibration=None, path='/logical_signal_groups/q4/drive_line_ef', physical_channel=PhysicalChannel(uid=device_shfsg/sgchannels_4_output, type=PhysicalChannelType.IQ_CHANNEL, name=sgchannels_4_output, path=/physical_channel_groups/device_shfsg/sgchannels_4_output, calibration=None))}),\n",
       " 'q5': LogicalSignalGroup(uid='q5', logical_signals={'drive_line': LogicalSignal(uid='q5/drive_line', direction=IODirection.OUT, name='drive_line', calibration=None, path='/logical_signal_groups/q5/drive_line', physical_channel=PhysicalChannel(uid=device_shfsg/sgchannels_5_output, type=PhysicalChannelType.IQ_CHANNEL, name=sgchannels_5_output, path=/physical_channel_groups/device_shfsg/sgchannels_5_output, calibration=None)), 'drive_line_ef': LogicalSignal(uid='q5/drive_line_ef', direction=IODirection.OUT, name='drive_line_ef', calibration=None, path='/logical_signal_groups/q5/drive_line_ef', physical_channel=PhysicalChannel(uid=device_shfsg/sgchannels_5_output, type=PhysicalChannelType.IQ_CHANNEL, name=sgchannels_5_output, path=/physical_channel_groups/device_shfsg/sgchannels_5_output, calibration=None))}),\n",
       " 'q6': LogicalSignalGroup(uid='q6', logical_signals={'drive_line': LogicalSignal(uid='q6/drive_line', direction=IODirection.OUT, name='drive_line', calibration=None, path='/logical_signal_groups/q6/drive_line', physical_channel=PhysicalChannel(uid=device_shfsg/sgchannels_6_output, type=PhysicalChannelType.IQ_CHANNEL, name=sgchannels_6_output, path=/physical_channel_groups/device_shfsg/sgchannels_6_output, calibration=None)), 'drive_line_ef': LogicalSignal(uid='q6/drive_line_ef', direction=IODirection.OUT, name='drive_line_ef', calibration=None, path='/logical_signal_groups/q6/drive_line_ef', physical_channel=PhysicalChannel(uid=device_shfsg/sgchannels_6_output, type=PhysicalChannelType.IQ_CHANNEL, name=sgchannels_6_output, path=/physical_channel_groups/device_shfsg/sgchannels_6_output, calibration=None))}),\n",
       " 'q7': LogicalSignalGroup(uid='q7', logical_signals={'drive_line': LogicalSignal(uid='q7/drive_line', direction=IODirection.OUT, name='drive_line', calibration=None, path='/logical_signal_groups/q7/drive_line', physical_channel=PhysicalChannel(uid=device_shfsg/sgchannels_7_output, type=PhysicalChannelType.IQ_CHANNEL, name=sgchannels_7_output, path=/physical_channel_groups/device_shfsg/sgchannels_7_output, calibration=None)), 'drive_line_ef': LogicalSignal(uid='q7/drive_line_ef', direction=IODirection.OUT, name='drive_line_ef', calibration=None, path='/logical_signal_groups/q7/drive_line_ef', physical_channel=PhysicalChannel(uid=device_shfsg/sgchannels_7_output, type=PhysicalChannelType.IQ_CHANNEL, name=sgchannels_7_output, path=/physical_channel_groups/device_shfsg/sgchannels_7_output, calibration=None))})}"
      ]
     },
     "execution_count": 4,
     "metadata": {},
     "output_type": "execute_result"
    }
   ],
   "source": [
    "device_setup.logical_signal_groups"
   ]
  },
  {
   "cell_type": "code",
   "execution_count": 5,
   "metadata": {},
   "outputs": [],
   "source": [
    "def define_calibration(config):\n",
    "    \n",
    "     # the calibration object will later be applied to the device setup\n",
    "    my_calibration = Calibration()\n",
    "\n",
    "\n",
    "    my_calibration[\"/logical_signal_groups/\"+ name +\"/drive_line\"] = \\\n",
    "        SignalCalibration(\n",
    "           # each logical signal can have an oscillator associated with it\n",
    "            oscillator=Oscillator(\n",
    "                frequency=config[name]['freq'],\n",
    "                modulation_type=ModulationType.HARDWARE\n",
    "            ),\n",
    "            local_oscillator=Oscillator(\n",
    "                frequency=config[\"lo\"]['qb_lo'],\n",
    "            ),\n",
    "            range=config[name][\"range\"]-20\n",
    "        )\n",
    "    \n",
    "    # readout drive line\n",
    "    my_calibration[\"/logical_signal_groups/\"+name+\"/measure_line\"] = \\\n",
    "         SignalCalibration(\n",
    "            oscillator=Oscillator(\n",
    "                frequency=config[name]['ro'],\n",
    "                modulation_type=ModulationType.SOFTWARE\n",
    "            ),\n",
    "            port_delay=config[\"rr\"]['ro_delay'],\n",
    "            local_oscillator=Oscillator(\n",
    "                frequency=config[\"lo\"]['ro_lo'],\n",
    "            ),\n",
    "           range=config[\"rr\"][\"range\"]\n",
    "       )\n",
    "    # acquisition line\n",
    "    my_calibration[\"/logical_signal_groups/\"+name+\"/acquire_line\"] = \\\n",
    "         SignalCalibration(\n",
    "            oscillator=Oscillator(\n",
    "                frequency=config[name][\"ro\"],\n",
    "                modulation_type=ModulationType.SOFTWARE\n",
    "            ),\n",
    "            # add an offset between the readout pulse and the start of the data acquisition - to compensate for round-trip time of readout pulse \n",
    "            port_delay=config[\"rr\"]['ro_delay'] + config[\"rr\"]['ro_int_delay'],\n",
    "            local_oscillator=Oscillator(\n",
    "                frequency=config[\"lo\"]['ro_lo'],\n",
    "            ),\n",
    "            range=config[\"rr\"][\"range\"]\n",
    "        )\n",
    "  \n",
    "    return my_calibration"
   ]
  },
  {
   "cell_type": "code",
   "execution_count": 6,
   "metadata": {},
   "outputs": [],
   "source": [
    "my_calibration = define_calibration(config=config)\n",
    "device_setup.set_calibration(my_calibration)"
   ]
  },
  {
   "cell_type": "code",
   "execution_count": 7,
   "metadata": {},
   "outputs": [
    {
     "name": "stdout",
     "output_type": "stream",
     "text": [
      "2023.03.20 08:07:59.305 laboneq.controller.laboneq_logging INFO   Logging initialized from [Default inline config in laboneq.controller.laboneq_logging] logdir is d:\\4. JWKim\\laboneq\\examples\\laboneq_output\\log\n",
      "2023.03.20 08:07:59.306 laboneq.controller.controller  INFO   VERSION: laboneq 2.1.0\n",
      "2023.03.20 08:07:59.307 laboneq.controller.devices.device_collection INFO   Connecting to data server at localhost:8004\n",
      "2023.03.20 08:07:59.532 laboneq.controller.communication INFO   Connected to Zurich Instrument's Data Server version 22.08 at localhost:8004\n",
      "2023.03.20 08:08:00.523 laboneq.controller.devices.device_collection INFO   Configuring clock sources\n",
      "2023.03.20 08:08:00.625 laboneq.controller.devices.device_collection INFO   Clock sources configured\n"
     ]
    },
    {
     "data": {
      "text/plain": [
       "<laboneq.dsl.session.ConnectionState at 0x1e8b53e4c70>"
      ]
     },
     "execution_count": 7,
     "metadata": {},
     "output_type": "execute_result"
    }
   ],
   "source": [
    "emulate=False\n",
    "my_session = Session(device_setup=device_setup)\n",
    "my_session.connect(do_emulation=emulate)"
   ]
  },
  {
   "cell_type": "code",
   "execution_count": 10,
   "metadata": {},
   "outputs": [
    {
     "data": {
      "text/plain": [
       "<laboneq.controller.toolkit_adapter.ToolkitDevices at 0x279c26e1e80>"
      ]
     },
     "execution_count": 10,
     "metadata": {},
     "output_type": "execute_result"
    }
   ],
   "source": [
    "my_session.devices"
   ]
  },
  {
   "cell_type": "code",
   "execution_count": null,
   "metadata": {},
   "outputs": [],
   "source": []
  }
 ],
 "metadata": {
  "kernelspec": {
   "display_name": "ydkim",
   "language": "python",
   "name": "python3"
  },
  "language_info": {
   "codemirror_mode": {
    "name": "ipython",
    "version": 3
   },
   "file_extension": ".py",
   "mimetype": "text/x-python",
   "name": "python",
   "nbconvert_exporter": "python",
   "pygments_lexer": "ipython3",
   "version": "3.9.16"
  },
  "orig_nbformat": 4
 },
 "nbformat": 4,
 "nbformat_minor": 2
}
